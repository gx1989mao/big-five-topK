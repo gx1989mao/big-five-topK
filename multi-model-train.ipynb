{
 "cells": [
  {
   "cell_type": "markdown",
   "id": "be4f8dc3",
   "metadata": {},
   "source": [
    "# import"
   ]
  },
  {
   "cell_type": "code",
   "execution_count": 1,
   "id": "a879144c",
   "metadata": {},
   "outputs": [
    {
     "name": "stderr",
     "output_type": "stream",
     "text": [
      "D:\\program\\anaconda\\lib\\site-packages\\pandas\\core\\arrays\\masked.py:60: UserWarning: Pandas requires version '1.3.6' or newer of 'bottleneck' (version '1.3.4' currently installed).\n",
      "  from pandas.core import (\n"
     ]
    },
    {
     "name": "stdout",
     "output_type": "stream",
     "text": [
      "cuda\n"
     ]
    }
   ],
   "source": [
    "import numpy as np\n",
    "import pandas as pd\n",
    "import ffmpeg\n",
    "import os\n",
    "import matplotlib.pyplot as plt\n",
    "import random\n",
    "import cv2\n",
    "import pickle\n",
    "import datetime\n",
    "from tqdm import tqdm\n",
    "from PIL import Image\n",
    "import torch\n",
    "import torch.nn as nn\n",
    "import torch.nn.functional as F\n",
    "import torch.optim as optim\n",
    "from math import ceil\n",
    "import scipy.io as sio \n",
    "\n",
    "device = torch.device('cuda') if torch.cuda.is_available() else torch.device('cpu')\n",
    "print(device)"
   ]
  },
  {
   "cell_type": "markdown",
   "id": "c27d06f0",
   "metadata": {},
   "source": [
    "# load total dataset"
   ]
  },
  {
   "cell_type": "code",
   "execution_count": 2,
   "id": "8c40e9d6",
   "metadata": {},
   "outputs": [],
   "source": [
    "if 'total_dataset' not in dir():\n",
    "    with open('total_dataset.pkl','rb') as f:\n",
    "        total_dataset = pickle.load(f)\n",
    "file_list = {}\n",
    "file_list['train'] = os.listdir('./processed1/train/')\n",
    "file_list['val'] = os.listdir('./processed1/val/')"
   ]
  },
  {
   "cell_type": "markdown",
   "id": "ce23f19f",
   "metadata": {},
   "source": [
    "# filter dataset 0.3 0.7"
   ]
  },
  {
   "cell_type": "code",
   "execution_count": 188,
   "id": "0a855074",
   "metadata": {},
   "outputs": [],
   "source": [
    "cut = []\n",
    "tmp = []\n",
    "for f in file_list['train']:\n",
    "    gt = total_dataset['train'][f]['gt']\n",
    "    if (gt>0.7).all() or (gt<0.3).all():\n",
    "        cut.append(f)\n",
    "    else:\n",
    "        tmp.append(f)\n",
    "file_list['train'] = tmp\n",
    "for c in cut:\n",
    "    del total_dataset['train'][c]\n",
    "    \n",
    "cut = []\n",
    "tmp = []\n",
    "for f in file_list['val']:\n",
    "    gt = total_dataset['val'][f]['gt']\n",
    "    if (gt>0.7).all() or  (gt<0.3).all():\n",
    "        cut.append(f)\n",
    "    else:\n",
    "        tmp.append(f)\n",
    "file_list['val'] = tmp\n",
    "for c in cut:\n",
    "    del total_dataset['val'][c]"
   ]
  },
  {
   "cell_type": "markdown",
   "id": "3f01dc12",
   "metadata": {},
   "source": [
    "# dataloader"
   ]
  },
  {
   "cell_type": "code",
   "execution_count": 3,
   "id": "cb40792b",
   "metadata": {},
   "outputs": [],
   "source": [
    "from torch.utils.data import Dataset, DataLoader\n",
    "\n",
    "def default_loader(filename,mode):\n",
    "    return total_dataset[mode][filename]\n",
    "\n",
    "class trainset(Dataset):\n",
    "    def __init__(self, mode='train', loader=default_loader):\n",
    "        self.mode = mode\n",
    "        self.file_list = file_list[mode]\n",
    "        self.loader = loader\n",
    "        \n",
    "    def __getitem__(self, idx):\n",
    "        res = self.loader(self.file_list[idx],self.mode) \n",
    "        return res\n",
    "\n",
    "    def __len__(self):\n",
    "        return len(self.file_list)"
   ]
  },
  {
   "cell_type": "markdown",
   "id": "59659300",
   "metadata": {},
   "source": [
    "# model def"
   ]
  },
  {
   "cell_type": "code",
   "execution_count": 140,
   "id": "05a7d9fc",
   "metadata": {
    "scrolled": true
   },
   "outputs": [
    {
     "name": "stdout",
     "output_type": "stream",
     "text": [
      "576\n"
     ]
    },
    {
     "data": {
      "text/plain": [
       "torch.Size([32, 5])"
      ]
     },
     "execution_count": 140,
     "metadata": {},
     "output_type": "execute_result"
    }
   ],
   "source": [
    "class LSTM_Model(nn.Module):\n",
    "    def __init__(self, input_dim, hidden_dim,isBiLSTM=False):\n",
    "        super(LSTM_Model, self).__init__()\n",
    "        self.hidden_dim = hidden_dim\n",
    "        self.lstm = nn.LSTM(input_dim, hidden_dim, batch_first=True,bidirectional=isBiLSTM)\n",
    "        self.isBiLSTM = isBiLSTM\n",
    "    def forward(self, x):\n",
    "        n = 2 if self.isBiLSTM else 1\n",
    "        h0 = torch.zeros(n, x.size(0), self.hidden_dim).to(x.device)\n",
    "        c0 = torch.zeros(n, x.size(0), self.hidden_dim).to(x.device)\n",
    "        out, _ = self.lstm(x, (h0, c0))\n",
    "        return out[:,-1,:]\n",
    "    \n",
    "class LSTM_Model_pre(nn.Module):\n",
    "    def __init__(self, input_dim, hidden_dim,isBiLSTM=False):\n",
    "        super(LSTM_Model_pre, self).__init__()\n",
    "        self.hidden_dim = hidden_dim\n",
    "        self.lstm = nn.LSTM(input_dim, hidden_dim, batch_first=True,bidirectional=isBiLSTM)\n",
    "        self.isBiLSTM = isBiLSTM\n",
    "    def forward(self, x):\n",
    "        n = 2 if self.isBiLSTM else 1\n",
    "        h0 = torch.zeros(n, x.size(0), self.hidden_dim).to(x.device)\n",
    "        c0 = torch.zeros(n, x.size(0), self.hidden_dim).to(x.device)\n",
    "        out, _ = self.lstm(x, (h0, c0))\n",
    "        return out\n",
    "    \n",
    "\n",
    "size = {}\n",
    "size['m2'] = 576\n",
    "size['m3'] = 960\n",
    "size['r50'] = 2048\n",
    "size['r101'] = 2048\n",
    "class COMBINE(nn.Module):\n",
    "    def __init__(self,fea_model='m2'):\n",
    "        super(COMBINE, self).__init__()\n",
    "        self.fea_model = fea_model\n",
    "        if fea_model in ['r50','r101']:\n",
    "            self.lstm_face_pre = LSTM_Model_pre(2048,512)\n",
    "            self.lstm_face = LSTM_Model(512,256)\n",
    "        \n",
    "        if fea_model in ['m2','m3']:\n",
    "            self.lstm_face = LSTM_Model(size[fea_model],256)\n",
    "        \n",
    "        self.fc_bg = nn.Linear(size[fea_model], 128)\n",
    "        \n",
    "        self.lstm_audio = LSTM_Model(128,64)\n",
    "        self.bi_lstm_bert = LSTM_Model(768,128,True)\n",
    "        self.fc_bert = nn.Linear(256, 128)\n",
    "        \n",
    "        self.fc_1 = nn.Linear(576, 256)\n",
    "        self.bn_1 = nn.BatchNorm1d(256)\n",
    "        self.relu_1 = nn.ReLU6(inplace=True)\n",
    "        self.fc_2 = nn.Linear(256, 64)\n",
    "        self.bn_2 = nn.BatchNorm1d(64)\n",
    "        self.relu_2 = nn.ReLU6(inplace=True)\n",
    "        self.fc_3 = nn.Linear(64, 5)\n",
    "        self.bn_3 = nn.BatchNorm1d(5)\n",
    "        self.relu_3 = nn.ReLU6(inplace=True)\n",
    "        self.dropout = nn.Dropout(0.1)\n",
    "    def forward(self, face,bg,audio,bert):\n",
    "        \n",
    "        if self.fea_model in ['r50','r101']:\n",
    "            face = self.lstm_face_pre(face)\n",
    "        x_face = self.lstm_face(face)\n",
    "        x_bg = self.fc_bg(bg)\n",
    "        x_audio = self.lstm_audio(audio)\n",
    "        x_bert = self.bi_lstm_bert(bert)\n",
    "        x_bert = self.fc_bert(x_bert)\n",
    "#         print([x_face.shape,x_bg.shape,x_audio.shape,x_bert.shape])\n",
    "        x = torch.cat([x_face,x_bg,x_audio,x_bert],1)\n",
    "#         x = x_face\n",
    "        x = self.fc_1(x)\n",
    "        x = self.bn_1(x)\n",
    "        x = self.relu_1(x)\n",
    "        x = self.fc_2(x)\n",
    "        x = self.bn_2(x)\n",
    "        x = self.relu_2(x)\n",
    "        x = self.fc_3(x)\n",
    "#         x = self.bn_3(x)\n",
    "#         x = self.relu_3(x)\n",
    "#         x = self.dropout(x)\n",
    "        return x\n",
    "\n",
    "\n",
    "model = COMBINE('r50')\n",
    "face,bg,audio,bert = torch.randn(32,12,2048),torch.randn(32,2048),torch.randn(32, 12, 128),torch.randn(32, 90, 768)\n",
    "x = model(face,bg,audio,bert)\n",
    "x.shape"
   ]
  },
  {
   "cell_type": "markdown",
   "id": "efbf9e2c",
   "metadata": {},
   "source": [
    "# set train"
   ]
  },
  {
   "cell_type": "code",
   "execution_count": 141,
   "id": "1c2fdd11",
   "metadata": {},
   "outputs": [],
   "source": [
    "train_data = trainset('train')\n",
    "val_data = trainset('val')\n",
    "BATCH_SIZE = 64\n",
    "EPOCH_N = 100\n",
    "alpha = 0.7\n",
    "fea_model = 'm3'\n",
    "rank_type = 'cos'\n",
    "\n",
    "model = COMBINE(fea_model).to(device)\n",
    "loss_mse = nn.MSELoss()\n",
    "loss_mae = nn.L1Loss()\n",
    "loss_rank = nn.CosineEmbeddingLoss()\n",
    "\n",
    "optimizer = torch.optim.Adam(model.parameters(), lr=2e-5)\n",
    "scheduler = None\n",
    "\n",
    "\n",
    "LR_REC = []\n",
    "LOSS_REC_T = []\n",
    "t_n = ceil(len(train_data)/BATCH_SIZE)\n",
    "v_n = ceil(len(val_data)/BATCH_SIZE)\n",
    "epoch_loss = np.zeros((EPOCH_N,7))\n",
    "epoch_idx = 0\n",
    "val_loss = 100"
   ]
  },
  {
   "cell_type": "code",
   "execution_count": 6,
   "id": "7bbaea4c",
   "metadata": {},
   "outputs": [],
   "source": [
    "def top_k_acc(res,gt,k):\n",
    "    N = res.shape[0]\n",
    "    res_s = np.argsort(res,axis=1)[:,::-1]\n",
    "    gt_s = np.argsort(gt,axis=1)[:,::-1]\n",
    "    tmp = 0\n",
    "    for i in range(N):\n",
    "        if gt_s[i,0] in res_s[i,:k]:   #  top-k \n",
    "            tmp+=1\n",
    "    return tmp/N\n",
    "\n",
    "posi_factor = 1/(np.log(np.array([1,2,3,4,5])+1)/np.log(2))\n",
    "def DCG(res_s,gt_s):\n",
    "    res = 0\n",
    "    for i in range(5):\n",
    "        in_gt_idx = list(gt_s).index(res_s[i])\n",
    "        res += (5-in_gt_idx)*posi_factor[i]\n",
    "    return res\n",
    "\n",
    "def loss_rank_dcg(res,gt):\n",
    "    res = res.detach().cpu().numpy()\n",
    "    gt = gt.detach().cpu().numpy()\n",
    "    \n",
    "    N = res.shape[0]\n",
    "    res_s = np.argsort(res,axis=1)[:,::-1]\n",
    "    gt_s = np.argsort(gt,axis=1)[:,::-1]\n",
    "    tmp = 0\n",
    "    for i in range(N):\n",
    "        dcg = DCG(res_s[i,:],gt_s[i,:])\n",
    "        tmp += (1-dcg/10.272)\n",
    "    return torch.tensor(tmp/N)\n",
    "\n",
    "def train_epoch(model, optimizer, scheduler=None, train_mode=True, istqdm=True):\n",
    "    global epoch_idx,val_loss\n",
    "    if train_mode:\n",
    "        dataloader = DataLoader(train_data, batch_size=BATCH_SIZE,shuffle=True)\n",
    "        model.train()\n",
    "    else:\n",
    "        dataloader = DataLoader(val_data, batch_size=BATCH_SIZE,shuffle=True)\n",
    "        model.eval()   \n",
    "    if istqdm:\n",
    "        dataloader = tqdm(dataloader)\n",
    "    \n",
    "    \n",
    "   \n",
    "    batch_loss_tmp = np.zeros((v_n,7))\n",
    "    for idx,x in enumerate(dataloader):\n",
    "        optimizer.zero_grad()\n",
    "        with torch.set_grad_enabled(train_mode):\n",
    "            res = model(x['face_'+fea_model].float().to(device),x['bg_'+fea_model].float().to(device),\n",
    "                        x['audio'].float().to(device),x['bert'].float().to(device))\n",
    "        x_gt = x['gt'].float().to(device)\n",
    "\n",
    "        mse_loss = loss_mse(res,x_gt).to(device)\n",
    "        mae_loss = loss_mae(res,x_gt).to(device)\n",
    "\n",
    "        if rank_type == 'cos':\n",
    "            target = torch.ones(res.shape[0]).to(device)\n",
    "            rank_loss = loss_rank(res,x_gt,target).to(device)\n",
    "        elif rank_type == 'dcg':\n",
    "            rank_loss = loss_rank_dcg(res,x_gt).to(device)\n",
    "        \n",
    "        \n",
    "        loss = alpha*rank_loss+(1-alpha)*mse_loss\n",
    "        \n",
    "        if train_mode:\n",
    "            loss.backward()\n",
    "            optimizer.step()\n",
    "            if scheduler is not None:\n",
    "                scheduler.step() \n",
    "            LOSS_REC_T.append(loss.item())\n",
    "            LR_REC.append(optimizer.state_dict()['param_groups'][0]['lr'])\n",
    "        else:\n",
    "            batch_loss_tmp[idx,0] = loss.item()\n",
    "            batch_loss_tmp[idx,1] = 1-mae_loss.item()\n",
    "            batch_loss_tmp[idx,2] = mse_loss.item()\n",
    "            batch_loss_tmp[idx,3] = rank_loss.item()\n",
    "            batch_loss_tmp[idx,4] = top_k_acc(res.detach().cpu().numpy(),x_gt.detach().cpu().numpy(),1)\n",
    "            batch_loss_tmp[idx,5] = top_k_acc(res.detach().cpu().numpy(),x_gt.detach().cpu().numpy(),2)\n",
    "            batch_loss_tmp[idx,6] = top_k_acc(res.detach().cpu().numpy(),x_gt.detach().cpu().numpy(),3)\n",
    "            \n",
    "            if loss.item()<val_loss:\n",
    "                val_loss = loss.item()\n",
    "                torch.save(model.state_dict(), 'best_model.pt')\n",
    "#                 print(epoch_idx)\n",
    "            \n",
    "    if train_mode == False:   # save each epoch\n",
    "        epoch_loss[epoch_idx,:] = np.mean(batch_loss_tmp,0)\n",
    "        batch_loss_tmp = np.zeros((v_n,7))\n",
    "        epoch_idx+=1\n",
    "    return"
   ]
  },
  {
   "cell_type": "markdown",
   "id": "0081aff0",
   "metadata": {},
   "source": [
    "# do train"
   ]
  },
  {
   "cell_type": "code",
   "execution_count": 142,
   "id": "f8a55033",
   "metadata": {
    "scrolled": true
   },
   "outputs": [
    {
     "name": "stderr",
     "output_type": "stream",
     "text": [
      "100%|████████████████████████████████████████████████████████████████████████████████████████████████████████████████████████████████████████████████████████████| 100/100 [05:56<00:00,  3.57s/it]\n"
     ]
    }
   ],
   "source": [
    "for e in tqdm(range(EPOCH_N)):\n",
    "    train_epoch(model, optimizer, scheduler, train_mode=True, istqdm=False)\n",
    "    train_epoch(model, optimizer, scheduler, train_mode=False, istqdm=False)"
   ]
  },
  {
   "cell_type": "code",
   "execution_count": 143,
   "id": "9411500e",
   "metadata": {},
   "outputs": [
    {
     "data": {
      "image/png": "[encoded data removed]",
      "text/plain": [
       "<Figure size 1152x360 with 2 Axes>"
      ]
     },
     "metadata": {
      "needs_background": "light"
     },
     "output_type": "display_data"
    }
   ],
   "source": [
    "def epoch_mean(tmp,num):\n",
    "    return [np.mean(tmp[i*num:(i+1)*num]) for i in range(len(tmp)//num)]\n",
    "\n",
    "t_n = ceil(len(train_data)/BATCH_SIZE)\n",
    "plt.figure(figsize=(16,5))\n",
    "plt.subplot(1,2,1)\n",
    "plt.plot(epoch_mean(LOSS_REC_T,t_n),'b-')\n",
    "plt.plot(epoch_loss[:,0],'r-')\n",
    "# plt.plot(epoch_loss[:,3],'g-')\n",
    "plt.yscale('log')\n",
    "plt.subplot(1,2,2)\n",
    "plt.plot(epoch_loss[:,1],'k-')\n",
    "plt.plot(epoch_loss[:,4],'r-')\n",
    "plt.plot(epoch_loss[:,5],'g-')\n",
    "plt.plot(epoch_loss[:,6],'b-')\n",
    "\n",
    "savepath = 'b'+str(BATCH_SIZE)+'_'+str(EPOCH_N)+'epoch_alpha'+str(alpha)+'_'+fea_model+'_'+rank_type+'.mat'\n",
    "sio.savemat(savepath,{'ori_train_loss':LOSS_REC_T,'train_loss':epoch_mean(LOSS_REC_T,t_n),'epoch_loss':epoch_loss})"
   ]
  },
  {
   "cell_type": "code",
   "execution_count": null,
   "id": "f6cf2cca",
   "metadata": {},
   "outputs": [],
   "source": []
  }
 ],
 "metadata": {
  "kernelspec": {
   "display_name": "Python 3 (ipykernel)",
   "language": "python",
   "name": "python3"
  },
  "language_info": {
   "codemirror_mode": {
    "name": "ipython",
    "version": 3
   },
   "file_extension": ".py",
   "mimetype": "text/x-python",
   "name": "python",
   "nbconvert_exporter": "python",
   "pygments_lexer": "ipython3",
   "version": "3.9.12"
  },
  "toc": {
   "base_numbering": 1,
   "nav_menu": {},
   "number_sections": true,
   "sideBar": true,
   "skip_h1_title": false,
   "title_cell": "Table of Contents",
   "title_sidebar": "Contents",
   "toc_cell": false,
   "toc_position": {
    "height": "calc(100% - 180px)",
    "left": "10px",
    "top": "150px",
    "width": "165px"
   },
   "toc_section_display": true,
   "toc_window_display": true
  }
 },
 "nbformat": 4,
 "nbformat_minor": 5
}
